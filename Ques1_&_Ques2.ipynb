{
 "cells": [
  {
   "cell_type": "markdown",
   "id": "b53f1476",
   "metadata": {},
   "source": [
    "## Set And Dictionay"
   ]
  },
  {
   "cell_type": "code",
   "execution_count": 1,
   "id": "1e7437d3",
   "metadata": {},
   "outputs": [
    {
     "name": "stdout",
     "output_type": "stream",
     "text": [
      "List of student ages : [18, 21, 19, 22, 20, 23]\n",
      "Ages after 5 years: [23, 26, 24, 27, 25, 28]\n",
      "Students above 20 years old: [21, 22, 23]\n",
      "Average age of students: 20.5\n"
     ]
    }
   ],
   "source": [
    "from functools import reduce\n",
    "\n",
    "# List of students' ages\n",
    "ages = [18, 21, 19, 22, 20, 23]\n",
    "print(\"List of student ages :\", ages)\n",
    "\n",
    "# Higher-order function - Map: Calculate age after 5 years\n",
    "ages_after_5_years = list(map(lambda x: x + 5, ages))\n",
    "print(\"Ages after 5 years:\", ages_after_5_years)\n",
    "\n",
    "# Higher-order function - Filter: Find students above 20 years old\n",
    "above_20 = list(filter(lambda x: x > 20, ages))\n",
    "print(\"Students above 20 years old:\", above_20)\n",
    "\n",
    "# Higher-order function - Reduce: Calculate average age\n",
    "average_age = reduce(lambda x, y: x + y, ages) / len(ages)\n",
    "print(\"Average age of students:\", average_age)\n"
   ]
  },
  {
   "cell_type": "code",
   "execution_count": 2,
   "id": "81eb4fef",
   "metadata": {},
   "outputs": [
    {
     "name": "stdout",
     "output_type": "stream",
     "text": [
      "Data in dictionary : {'Alice': [85, 90, 92], 'Bob': [70, 65, 80], 'Charlie': [55, 60, 58]}\n",
      "Updated grades: {'Alice': [90, 95, 97], 'Bob': [75, 70, 85], 'Charlie': [60, 65, 63]}\n",
      "Students who passed: [('Alice', [85, 90, 92]), ('Bob', [70, 65, 80])]\n",
      "Total number of students: 3\n"
     ]
    }
   ],
   "source": [
    "# from functools import reduce\n",
    "\n",
    "# Dictionary of students' grades\n",
    "student_grades = {\n",
    "    \"Alice\": [85, 90, 92],\n",
    "    \"Bob\": [70, 65, 80],\n",
    "    \"Charlie\": [55, 60, 58]\n",
    "}\n",
    "print(\"Data in dictionary :\", student_grades)\n",
    "\n",
    "# Higher-order function - Map: Add 5 bonus marks to each student's grades\n",
    "updated_grades = {name: list(map(lambda x: x + 5, grades)) for name, grades in student_grades.items()}\n",
    "print(\"Updated grades:\", updated_grades)\n",
    "\n",
    "# Higher-order function - Filter: Find students who passed (average grade >= 60)\n",
    "passed_students = list(filter(lambda x: sum(x[1]) / len(x[1]) >= 60, student_grades.items()))\n",
    "print(\"Students who passed:\", passed_students)\n",
    "\n",
    "# Higher-order function - Reduce: Calculate the total number of students\n",
    "total_students = reduce(lambda x, _: x + 1, student_grades, 0)\n",
    "print(\"Total number of students:\", total_students)\n"
   ]
  },
  {
   "cell_type": "markdown",
   "id": "34598c61",
   "metadata": {},
   "source": [
    "## Pandas"
   ]
  },
  {
   "cell_type": "code",
   "execution_count": 12,
   "id": "53236434",
   "metadata": {},
   "outputs": [
    {
     "name": "stdout",
     "output_type": "stream",
     "text": [
      "DataFrame:\n"
     ]
    },
    {
     "data": {
      "text/html": [
       "<div>\n",
       "<style scoped>\n",
       "    .dataframe tbody tr th:only-of-type {\n",
       "        vertical-align: middle;\n",
       "    }\n",
       "\n",
       "    .dataframe tbody tr th {\n",
       "        vertical-align: top;\n",
       "    }\n",
       "\n",
       "    .dataframe thead th {\n",
       "        text-align: right;\n",
       "    }\n",
       "</style>\n",
       "<table border=\"1\" class=\"dataframe\">\n",
       "  <thead>\n",
       "    <tr style=\"text-align: right;\">\n",
       "      <th></th>\n",
       "      <th>Name</th>\n",
       "      <th>Age</th>\n",
       "      <th>Gender</th>\n",
       "      <th>Salary</th>\n",
       "      <th>City</th>\n",
       "    </tr>\n",
       "  </thead>\n",
       "  <tbody>\n",
       "    <tr>\n",
       "      <th>0</th>\n",
       "      <td>John</td>\n",
       "      <td>25</td>\n",
       "      <td>Male</td>\n",
       "      <td>50000</td>\n",
       "      <td>New York</td>\n",
       "    </tr>\n",
       "    <tr>\n",
       "      <th>1</th>\n",
       "      <td>Alice</td>\n",
       "      <td>30</td>\n",
       "      <td>Female</td>\n",
       "      <td>60000</td>\n",
       "      <td>Los Angeles</td>\n",
       "    </tr>\n",
       "    <tr>\n",
       "      <th>2</th>\n",
       "      <td>Bob</td>\n",
       "      <td>35</td>\n",
       "      <td>Male</td>\n",
       "      <td>70000</td>\n",
       "      <td>Chicago</td>\n",
       "    </tr>\n",
       "    <tr>\n",
       "      <th>3</th>\n",
       "      <td>Emily</td>\n",
       "      <td>28</td>\n",
       "      <td>Female</td>\n",
       "      <td>55000</td>\n",
       "      <td>San Francisco</td>\n",
       "    </tr>\n",
       "    <tr>\n",
       "      <th>4</th>\n",
       "      <td>David</td>\n",
       "      <td>40</td>\n",
       "      <td>Male</td>\n",
       "      <td>75000</td>\n",
       "      <td>Boston</td>\n",
       "    </tr>\n",
       "  </tbody>\n",
       "</table>\n",
       "</div>"
      ],
      "text/plain": [
       "    Name  Age  Gender  Salary           City\n",
       "0   John   25    Male   50000       New York\n",
       "1  Alice   30  Female   60000    Los Angeles\n",
       "2    Bob   35    Male   70000        Chicago\n",
       "3  Emily   28  Female   55000  San Francisco\n",
       "4  David   40    Male   75000         Boston"
      ]
     },
     "execution_count": 12,
     "metadata": {},
     "output_type": "execute_result"
    }
   ],
   "source": [
    "import pandas as pd\n",
    "\n",
    "# Create a sample DataFrame\n",
    "data = {\n",
    "    'Name': ['John', 'Alice', 'Bob', 'Emily', 'David'],\n",
    "    'Age': [25, 30, 35, 28, 40],\n",
    "    'Gender': ['Male', 'Female', 'Male', 'Female', 'Male'],\n",
    "    'Salary': [50000, 60000, 70000, 55000, 75000],\n",
    "    'City': ['New York', 'Los Angeles', 'Chicago', 'San Francisco', 'Boston']\n",
    "}\n",
    "\n",
    "df = pd.DataFrame(data)\n",
    "\n",
    "# Display the DataFrame\n",
    "print(\"DataFrame:\")\n",
    "# print(df)\n",
    "df.head()\n",
    "# print()\n"
   ]
  },
  {
   "cell_type": "code",
   "execution_count": 6,
   "id": "e491b0fb",
   "metadata": {},
   "outputs": [
    {
     "name": "stdout",
     "output_type": "stream",
     "text": [
      "Basic EDA:\n",
      "1. Summary Statistics:\n",
      "            Age        Salary\n",
      "count   5.00000      5.000000\n",
      "mean   31.60000  62000.000000\n",
      "std     5.94138  10368.220677\n",
      "min    25.00000  50000.000000\n",
      "25%    28.00000  55000.000000\n",
      "50%    30.00000  60000.000000\n",
      "75%    35.00000  70000.000000\n",
      "max    40.00000  75000.000000\n",
      "\n"
     ]
    }
   ],
   "source": [
    "\n",
    "# Basic EDA\n",
    "print(\"Basic EDA:\")\n",
    "print(\"1. Summary Statistics:\")\n",
    "print(df.describe())\n",
    "print()"
   ]
  },
  {
   "cell_type": "code",
   "execution_count": 7,
   "id": "68dc0285",
   "metadata": {},
   "outputs": [
    {
     "name": "stdout",
     "output_type": "stream",
     "text": [
      "2. Data Types:\n",
      "Name      object\n",
      "Age        int64\n",
      "Gender    object\n",
      "Salary     int64\n",
      "City      object\n",
      "dtype: object\n",
      "\n"
     ]
    }
   ],
   "source": [
    "print(\"2. Data Types:\")\n",
    "print(df.dtypes)\n",
    "print()\n",
    "\n",
    "\n"
   ]
  },
  {
   "cell_type": "code",
   "execution_count": 9,
   "id": "1913e934",
   "metadata": {},
   "outputs": [
    {
     "name": "stdout",
     "output_type": "stream",
     "text": [
      "3. Number of Missing Values:\n",
      "Name      0\n",
      "Age       0\n",
      "Gender    0\n",
      "Salary    0\n",
      "City      0\n",
      "dtype: int64\n",
      "\n",
      "4. Unique Values in Categorical Columns:\n",
      "Name : ['John' 'Alice' 'Bob' 'Emily' 'David']\n",
      "Gender : ['Male' 'Female']\n",
      "City : ['New York' 'Los Angeles' 'Chicago' 'San Francisco' 'Boston']\n",
      "\n"
     ]
    }
   ],
   "source": [
    "print(\"3. Number of Missing Values:\")\n",
    "print(df.isnull().sum())\n",
    "print()\n",
    "\n",
    "print(\"4. Unique Values in Categorical Columns:\")\n",
    "for column in df.select_dtypes(include=['object']).columns:\n",
    "    print(column, \":\", df[column].unique())\n",
    "print()\n",
    "\n"
   ]
  },
  {
   "cell_type": "code",
   "execution_count": 10,
   "id": "e9e7af8b",
   "metadata": {},
   "outputs": [
    {
     "name": "stdout",
     "output_type": "stream",
     "text": [
      "5. Value Counts in Categorical Columns:\n",
      "Name :\n",
      " Name\n",
      "John     1\n",
      "Alice    1\n",
      "Bob      1\n",
      "Emily    1\n",
      "David    1\n",
      "Name: count, dtype: int64\n",
      "Gender :\n",
      " Gender\n",
      "Male      3\n",
      "Female    2\n",
      "Name: count, dtype: int64\n",
      "City :\n",
      " City\n",
      "New York         1\n",
      "Los Angeles      1\n",
      "Chicago          1\n",
      "San Francisco    1\n",
      "Boston           1\n",
      "Name: count, dtype: int64\n",
      "\n"
     ]
    }
   ],
   "source": [
    "print(\"5. Value Counts in Categorical Columns:\")\n",
    "for column in df.select_dtypes(include=['object']).columns:\n",
    "    print(column, \":\\n\", df[column].value_counts())\n",
    "print()"
   ]
  },
  {
   "cell_type": "code",
   "execution_count": null,
   "id": "1f41c6c4",
   "metadata": {},
   "outputs": [],
   "source": []
  }
 ],
 "metadata": {
  "kernelspec": {
   "display_name": "Python 3 (ipykernel)",
   "language": "python",
   "name": "python3"
  },
  "language_info": {
   "codemirror_mode": {
    "name": "ipython",
    "version": 3
   },
   "file_extension": ".py",
   "mimetype": "text/x-python",
   "name": "python",
   "nbconvert_exporter": "python",
   "pygments_lexer": "ipython3",
   "version": "3.11.5"
  }
 },
 "nbformat": 4,
 "nbformat_minor": 5
}
