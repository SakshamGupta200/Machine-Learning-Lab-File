{
 "cells": [
  {
   "cell_type": "code",
   "execution_count": 2,
   "id": "b02b6de8",
   "metadata": {},
   "outputs": [],
   "source": [
    "import pandas as pd\n",
    "import numpy as np\n",
    "from sklearn.model_selection import train_test_split\n",
    "from sklearn.preprocessing import StandardScaler\n",
    "from sklearn.neighbors import KNeighborsClassifier\n",
    "from sklearn.metrics import accuracy_score, classification_report, confusion_matrix"
   ]
  },
  {
   "cell_type": "code",
   "execution_count": null,
   "id": "b384e791",
   "metadata": {},
   "outputs": [],
   "source": [
    "# Load the dataset from the provided URL\n",
    "url = \"https://archive.ics.uci.edu/ml/machine-learning-databases/00225/Indian%20Liver%20Patient%20Dataset%20(ILPD).csv\"\n",
    "\n",
    "column_names = ['Age','Gender','Total_Bilirubin','Direct_Bilirubin','Direct_Billirubin','Alkaline_Phosphotase','Alamine_Aminotransferase',\n",
    "'Aspartate_Aminotransferase','Albumin','Albumin_and_Globulin_Ratio','Liver_disease']\n",
    "\n",
    "# Convert CSV data to DataFrame\n",
    "df = pd.read_csv(url, names=column_names)\n",
    "\n",
    "# Data Preprocessing \n",
    "\n",
    "df['Gender']= df['Gender'].map({'Female':0, 'Male':1})\n",
    "df['Albumin_and_Globulin_Ratio'].fillna(df['Albumin_and_Globulin_Ratio'].mean(), inplace = True)\n",
    "\n",
    "# Splitting features and target variables\n",
    "\n",
    "x = df.drop()"
   ]
  }
 ],
 "metadata": {
  "kernelspec": {
   "display_name": "Python 3 (ipykernel)",
   "language": "python",
   "name": "python3"
  },
  "language_info": {
   "codemirror_mode": {
    "name": "ipython",
    "version": 3
   },
   "file_extension": ".py",
   "mimetype": "text/x-python",
   "name": "python",
   "nbconvert_exporter": "python",
   "pygments_lexer": "ipython3",
   "version": "3.11.5"
  }
 },
 "nbformat": 4,
 "nbformat_minor": 5
}
