{
 "cells": [
  {
   "cell_type": "code",
   "execution_count": 1,
   "metadata": {},
   "outputs": [],
   "source": [
    "import numpy  as np"
   ]
  },
  {
   "cell_type": "code",
   "execution_count": 2,
   "metadata": {},
   "outputs": [
    {
     "name": "stdout",
     "output_type": "stream",
     "text": [
      "Slope:  1.0\n",
      "Intercept:  1.0\n"
     ]
    }
   ],
   "source": [
    "def simple_linear_regression(x,y):\n",
    "    n=len(x)\n",
    "    x_mean=np.mean(x)\n",
    "    y_mean=np.mean(y)\n",
    "    #calculate the slope (m) and intercept (b) using least squares method\n",
    "    numerator = sum((x[i] - x_mean)*(y[i] - y_mean)for i in range(n))\n",
    "    denomenator = sum((x[i] - x_mean) ** 2 for i in range(n))\n",
    "    slope = numerator/denomenator\n",
    "    intercept = y_mean - slope * x_mean\n",
    "    return slope,intercept\n",
    "#test with random data\n",
    "x = np.array([1,2,3,4,5])\n",
    "y = np.array([2,3,4,5,6])\n",
    "slope,intercept = simple_linear_regression(x,y)\n",
    "print(\"Slope: \",slope)\n",
    "print(\"Intercept: \",intercept)"
   ]
  }
 ],
 "metadata": {
  "kernelspec": {
   "display_name": "Python 3 (ipykernel)",
   "language": "python",
   "name": "python3"
  },
  "language_info": {
   "codemirror_mode": {
    "name": "ipython",
    "version": 3
   },
   "file_extension": ".py",
   "mimetype": "text/x-python",
   "name": "python",
   "nbconvert_exporter": "python",
   "pygments_lexer": "ipython3",
   "version": "3.11.5"
  }
 },
 "nbformat": 4,
 "nbformat_minor": 2
}
