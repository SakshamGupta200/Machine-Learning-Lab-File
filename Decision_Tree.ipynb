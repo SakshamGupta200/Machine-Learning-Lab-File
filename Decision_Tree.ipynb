{
 "cells": [
  {
   "cell_type": "code",
   "execution_count": 1,
   "id": "c5522658-6a58-47d9-8978-8444ce12f972",
   "metadata": {},
   "outputs": [],
   "source": [
    "import math"
   ]
  },
  {
   "cell_type": "code",
   "execution_count": 2,
   "id": "e517a44c-648f-4370-9445-e4ffa0e2e5c8",
   "metadata": {},
   "outputs": [],
   "source": [
    "data = [\n",
    "    {'Outlook': 'Sunny', 'Temperature': 'Hot', 'Humidity': 'High', 'Wind': 'Weak', 'PlayTennis': 'No'},\n",
    "    {'Outlook': 'Sunny', 'Temperature': 'Hot', 'Humidity': 'High', 'Wind': 'Strong', 'PlayTennis': 'No'},\n",
    "    {'Outlook': 'Overcast', 'Temperature': 'Hot', 'Humidity': 'High', 'Wind': 'Weak', 'PlayTennis': 'Yes'},\n",
    "    {'Outlook': 'Rainy', 'Temperature': 'Mild', 'Humidity': 'High', 'Wind': 'Weak', 'PlayTennis': 'Yes'},\n",
    "    {'Outlook': 'Rainy', 'Temperature': 'Cool', 'Humidity': 'Normal', 'Wind': 'Weak', 'PlayTennis': 'Yes'},\n",
    "    {'Outlook': 'Rainy', 'Temperature': 'Cool', 'Humidity': 'Normal', 'Wind': 'Strong', 'PlayTennis': 'No'},\n",
    "    {'Outlook': 'Overcast', 'Temperature': 'Cool', 'Humidity': 'Normal', 'Wind': 'Strong', 'PlayTennis': 'Yes'},\n",
    "    {'Outlook': 'Sunny', 'Temperature': 'Mild', 'Humidity': 'High', 'Wind': 'Weak', 'PlayTennis': 'No'},\n",
    "    {'Outlook': 'Sunny', 'Temperature': 'Cool', 'Humidity': 'Normal', 'Wind': 'Weak', 'PlayTennis': 'Yes'},\n",
    "    {'Outlook': 'Rainy', 'Temperature': 'Mild', 'Humidity': 'Normal', 'Wind': 'Weak', 'PlayTennis': 'Yes'},\n",
    "    {'Outlook': 'Sunny', 'Temperature': 'Mild', 'Humidity': 'Normal', 'Wind': 'Strong', 'PlayTennis': 'Yes'},\n",
    "    {'Outlook': 'Overcast', 'Temperature': 'Mild', 'Humidity': 'High', 'Wind': 'Strong', 'PlayTennis': 'Yes'},\n",
    "    {'Outlook': 'Overcast', 'Temperature': 'Hot', 'Humidity': 'Normal', 'Wind': 'Weak', 'PlayTennis': 'Yes'},\n",
    "    {'Outlook': 'Rainy', 'Temperature': 'Mild', 'Humidity': 'High', 'Wind': 'Strong', 'PlayTennis': 'No'}\n",
    "]"
   ]
  },
  {
   "cell_type": "markdown",
   "id": "3bbc4d1f-a0a5-4eb3-b262-b46e84c8dc80",
   "metadata": {},
   "source": [
    "## Define Entropy Function"
   ]
  },
  {
   "cell_type": "code",
   "execution_count": 3,
   "id": "d67993b1-a0e8-4596-82d9-07776e4a5980",
   "metadata": {},
   "outputs": [],
   "source": [
    "def entropy(data, target_attribute):\n",
    "    label_counts = {}\n",
    "    for record in data:\n",
    "        label = record[target_attribute]\n",
    "        if label not in label_counts:\n",
    "            label_counts[label] = 0\n",
    "        label_counts[label] += 1\n",
    "\n",
    "    total = len(data)\n",
    "    entropy = 0.0\n",
    "    for key in label_counts:\n",
    "        probability = label_counts[key] / total\n",
    "        entropy -= probability * math.log2(probability)\n",
    "    return entropy\n"
   ]
  },
  {
   "cell_type": "markdown",
   "id": "6f3a2f7d-03f2-48fc-8cc1-0dfccd6f3aae",
   "metadata": {},
   "source": [
    "## Define the Information Gain Function\u000b"
   ]
  },
  {
   "cell_type": "code",
   "execution_count": 4,
   "id": "41866bd0-7f48-41c5-8723-407ede23ed6f",
   "metadata": {},
   "outputs": [],
   "source": [
    "def information_gain(data, attribute, target_attribute):\n",
    "    total_entropy = entropy(data, target_attribute)\n",
    "    attribute_values = set(record[attribute] for record in data)\n",
    "    weighted_entropy = 0.0\n",
    "\n",
    "    for value in attribute_values:\n",
    "        subset = [record for record in data if record[attribute] == value]\n",
    "        subset_entropy = entropy(subset, target_attribute)\n",
    "        weighted_entropy += (len(subset) / len(data)) * subset_entropy\n",
    "\n",
    "    return total_entropy - weighted_entropy\n",
    "\n"
   ]
  },
  {
   "cell_type": "markdown",
   "id": "ce2e72da-1bc8-4081-ab98-e467a6ce2bee",
   "metadata": {},
   "source": [
    "## Define the ID3 Algorithm Function\u000b"
   ]
  },
  {
   "cell_type": "code",
   "execution_count": 5,
   "id": "f14d2ead-239c-4dad-9025-4e722cce6848",
   "metadata": {},
   "outputs": [],
   "source": [
    "def id3(data, available_features, target_attribute):\n",
    "    target_labels = [record[target_attribute] for record in data]\n",
    "    if len(set(target_labels)) == 1:\n",
    "        return target_labels[0]\n",
    "\n",
    "    if not available_features:\n",
    "        return max(set(target_labels), key=target_labels.count)\n",
    "    best_feature = max(available_features, key=lambda feature: information_gain(data, feature, target_attribute))\n",
    "    tree = {best_feature: {}}\n",
    "    available_features = [feature for feature in available_features if feature != best_feature]\n",
    "    for value in set(record[best_feature] for record in data):\n",
    "        subtree_data = [record for record in data if record[best_feature] == value]\n",
    "        subtree = id3(subtree_data, available_features, target_attribute)\n",
    "        tree[best_feature][value] = subtree\n",
    "    return tree"
   ]
  },
  {
   "cell_type": "code",
   "execution_count": 6,
   "id": "bee6dee3-5aaa-4a5a-8dcc-d586a805fe0b",
   "metadata": {},
   "outputs": [
    {
     "name": "stdout",
     "output_type": "stream",
     "text": [
      "Decision Tree:\n",
      "{'Outlook': {'Rainy': {'Wind': {'Weak': 'Yes', 'Strong': 'No'}}, 'Sunny': {'Humidity': {'Normal': 'Yes', 'High': 'No'}}, 'Overcast': 'Yes'}}\n"
     ]
    }
   ],
   "source": [
    "features = ['Outlook', 'Temperature', 'Humidity', 'Wind']\n",
    "target = 'PlayTennis'\n",
    "\n",
    "decision_tree = id3(data, features, target)\n",
    "print(\"Decision Tree:\")\n",
    "print(decision_tree)\n"
   ]
  }
 ],
 "metadata": {
  "kernelspec": {
   "display_name": "Python 3 (ipykernel)",
   "language": "python",
   "name": "python3"
  },
  "language_info": {
   "codemirror_mode": {
    "name": "ipython",
    "version": 3
   },
   "file_extension": ".py",
   "mimetype": "text/x-python",
   "name": "python",
   "nbconvert_exporter": "python",
   "pygments_lexer": "ipython3",
   "version": "3.11.7"
  }
 },
 "nbformat": 4,
 "nbformat_minor": 5
}
