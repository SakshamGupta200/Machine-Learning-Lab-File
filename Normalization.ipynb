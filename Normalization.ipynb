{
 "cells": [
  {
   "cell_type": "code",
   "execution_count": 1,
   "id": "df65449f",
   "metadata": {},
   "outputs": [
    {
     "name": "stdout",
     "output_type": "stream",
     "text": [
      "Original data: [10, 20, 30, 40, 50]\n",
      "Normalized data using Min-Max method: [0.0, 0.25, 0.5, 0.75, 1.0]\n"
     ]
    }
   ],
   "source": [
    "def min_max_normalization(data):\n",
    "    # Find the minimum and maximum values in the data\n",
    "    min_val = min(data)\n",
    "    max_val = max(data)\n",
    "    \n",
    "    # Normalize each data point using the Min-Max method\n",
    "    normalized_data = [(x - min_val) / (max_val - min_val) for x in data]\n",
    "    \n",
    "    return normalized_data\n",
    "\n",
    "# def main():\n",
    "    # Sample data\n",
    "data = [10, 20, 30, 40, 50]\n",
    "\n",
    "    # Normalize the data\n",
    "normalized_data = min_max_normalization(data)\n",
    "\n",
    "    # Display original and normalized data\n",
    "print(\"Original data:\", data)\n",
    "print(\"Normalized data using Min-Max method:\", normalized_data)\n",
    "\n",
    "# if __name__ == \"__main__\":\n",
    "#     main()"
   ]
  }
 ],
 "metadata": {
  "kernelspec": {
   "display_name": "Python 3 (ipykernel)",
   "language": "python",
   "name": "python3"
  },
  "language_info": {
   "codemirror_mode": {
    "name": "ipython",
    "version": 3
   },
   "file_extension": ".py",
   "mimetype": "text/x-python",
   "name": "python",
   "nbconvert_exporter": "python",
   "pygments_lexer": "ipython3",
   "version": "3.11.5"
  }
 },
 "nbformat": 4,
 "nbformat_minor": 5
}
