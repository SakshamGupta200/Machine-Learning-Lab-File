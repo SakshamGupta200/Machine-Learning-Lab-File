{
 "cells": [
  {
   "cell_type": "code",
   "execution_count": 2,
   "id": "f33f45b0",
   "metadata": {},
   "outputs": [
    {
     "name": "stdout",
     "output_type": "stream",
     "text": [
      "                            OLS Regression Results                            \n",
      "==============================================================================\n",
      "Dep. Variable:                      Y   R-squared:                       1.000\n",
      "Model:                            OLS   Adj. R-squared:                  1.000\n",
      "Method:                 Least Squares   F-statistic:                 1.467e+30\n",
      "Date:                Mon, 29 Apr 2024   Prob (F-statistic):           1.24e-45\n",
      "Time:                        08:29:54   Log-Likelihood:                 150.57\n",
      "No. Observations:                   5   AIC:                            -297.1\n",
      "Df Residuals:                       3   BIC:                            -297.9\n",
      "Df Model:                           1                                         \n",
      "Covariance Type:            nonrobust                                         \n",
      "==============================================================================\n",
      "                 coef    std err          t      P>|t|      [0.025      0.975]\n",
      "------------------------------------------------------------------------------\n",
      "const         -3.3333   1.17e-14  -2.86e+14      0.000      -3.333      -3.333\n",
      "X1             6.6667   1.43e-14   4.66e+14      0.000       6.667       6.667\n",
      "X2             3.3333   2.75e-15   1.21e+15      0.000       3.333       3.333\n",
      "X3          2.887e-15   9.13e-15      0.316      0.773   -2.62e-14    3.19e-14\n",
      "==============================================================================\n",
      "Omnibus:                          nan   Durbin-Watson:                   0.154\n",
      "Prob(Omnibus):                    nan   Jarque-Bera (JB):                0.409\n",
      "Skew:                          -0.567   Prob(JB):                        0.815\n",
      "Kurtosis:                       2.175   Cond. No.                     1.26e+17\n",
      "==============================================================================\n",
      "\n",
      "Notes:\n",
      "[1] Standard Errors assume that the covariance matrix of the errors is correctly specified.\n",
      "[2] The smallest eigenvalue is 1.77e-32. This might indicate that there are\n",
      "strong multicollinearity problems or that the design matrix is singular.\n"
     ]
    },
    {
     "name": "stderr",
     "output_type": "stream",
     "text": [
      "C:\\Users\\mailm\\AppData\\Roaming\\Python\\Python312\\site-packages\\statsmodels\\stats\\stattools.py:74: ValueWarning: omni_normtest is not valid with less than 8 observations; 5 samples were given.\n",
      "  warn(\"omni_normtest is not valid with less than 8 observations; %i \"\n"
     ]
    }
   ],
   "source": [
    "import numpy as np\n",
    "import pandas as pd\n",
    "import statsmodels.api as sm\n",
    "\n",
    "# Dataset\n",
    "\n",
    "data = {\n",
    "    'X1':[1,2,3,4,5],\n",
    "    'X2':[2,3,4,5,6],\n",
    "    'X3':[3,4,5,6,7],\n",
    "    'Y':[10,20,30,40,50]\n",
    "}\n",
    "# Create Dataframe\n",
    "df = pd.DataFrame(data)\n",
    "\n",
    "# Define the independent varible X & dependent variable Y\n",
    "X = df[['X1','X2','X3']]\n",
    "Y = df['Y']\n",
    "\n",
    "# Add a constrint\n",
    "X = sm.add_constant(X)\n",
    "\n",
    "# Fit the multiple regression\n",
    "model = sm.OLS(Y , X).fit()\n",
    "\n",
    "# Print the model summary\n",
    "print(model.summary())"
   ]
  },
  {
   "cell_type": "code",
   "execution_count": null,
   "id": "1c5aef10",
   "metadata": {},
   "outputs": [],
   "source": []
  }
 ],
 "metadata": {
  "kernelspec": {
   "display_name": "Python 3",
   "language": "python",
   "name": "python3"
  },
  "language_info": {
   "codemirror_mode": {
    "name": "ipython",
    "version": 3
   },
   "file_extension": ".py",
   "mimetype": "text/x-python",
   "name": "python",
   "nbconvert_exporter": "python",
   "pygments_lexer": "ipython3",
   "version": "3.12.0"
  }
 },
 "nbformat": 4,
 "nbformat_minor": 5
}
