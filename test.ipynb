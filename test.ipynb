{
 "cells": [
  {
   "cell_type": "code",
   "execution_count": 2,
   "metadata": {
    "metadata": {}
   },
   "outputs": [
    {
     "name": "stdout",
     "output_type": "stream",
     "text": [
      "Predicted class: yes\n"
     ]
    }
   ],
   "source": [
    "import numpy as np\n",
    "\n",
    "# Define the dataset\n",
    "X = np.array([\n",
    "    ['Yes', 'No', 'Mild', 'Yes', 'No'],\n",
    "    ['Yes', 'Yes', 'No', 'No', 'Yes'],\n",
    "    ['Yes', 'No', 'Strong', 'Yes', 'Yes'],\n",
    "    ['No', 'Yes', 'Mild', 'Yes', 'Yes'],\n",
    "    ['No', 'No', 'No', 'No', 'No'],\n",
    "    ['No', 'Yes', 'Strong', 'Yes', 'Yes'],\n",
    "    ['No', 'Yes', 'Strong', 'No', 'No'],\n",
    "    ['Yes', 'Yes', 'Mild', 'Yes', 'Yes']\n",
    "])\n",
    "\n",
    "# Define the labels\n",
    "y = np.array(['no', 'yes', 'yes', 'yes', 'no', 'yes', 'no', 'yes'])\n",
    "\n",
    "# Function to calculate class probabilities\n",
    "def calculate_class_probabilities(labels):\n",
    "    unique_classes, class_counts = np.unique(labels, return_counts=True)\n",
    "    total_samples = len(labels)\n",
    "    class_probabilities = {}\n",
    "    for class_label, count in zip(unique_classes, class_counts):\n",
    "        class_probabilities[class_label] = count / total_samples\n",
    "    return class_probabilities\n",
    "\n",
    "# Function to calculate conditional probabilities\n",
    "def calculate_conditional_probabilities(features, labels):\n",
    "    unique_features = {}\n",
    "    conditional_probabilities = {}\n",
    "    for feature_index in range(features.shape[1]):\n",
    "        unique_feature_values, feature_value_counts = np.unique(features[:, feature_index], return_counts=True)\n",
    "        unique_features[feature_index] = unique_feature_values\n",
    "        conditional_probabilities[feature_index] = {}\n",
    "        for class_label in np.unique(labels):\n",
    "            conditional_probabilities[feature_index][class_label] = {}\n",
    "            for feature_value, count in zip(unique_feature_values, feature_value_counts):\n",
    "                mask = (features[:, feature_index] == feature_value) & (labels == class_label)\n",
    "                conditional_probabilities[feature_index][class_label][feature_value] = np.sum(mask) / np.sum(labels == class_label)\n",
    "    return conditional_probabilities, unique_features\n",
    "\n",
    "# Function to predict the class for new data\n",
    "def predict(features, class_probabilities, conditional_probabilities, unique_features):\n",
    "    predicted_classes = []\n",
    "    for sample in features:\n",
    "        posterior_probabilities = {}\n",
    "        for class_label, class_probability in class_probabilities.items():\n",
    "            posterior_probability = np.log(class_probability)\n",
    "            for feature_index, feature_value in enumerate(sample):\n",
    "                if feature_value in unique_features[feature_index]:\n",
    "                    posterior_probability += np.log(conditional_probabilities[feature_index][class_label][feature_value])\n",
    "            posterior_probabilities[class_label] = posterior_probability\n",
    "        predicted_class = max(posterior_probabilities, key=posterior_probabilities.get)\n",
    "        predicted_classes.append(predicted_class)\n",
    "    return predicted_classes\n",
    "\n",
    "# Calculate class probabilities\n",
    "class_probabilities = calculate_class_probabilities(y)\n",
    "\n",
    "# Calculate conditional probabilities\n",
    "conditional_probabilities, unique_features = calculate_conditional_probabilities(X, y)\n",
    "\n",
    "# New data to predict\n",
    "new_data = np.array(['Yes', 'No', 'Mild', 'Yes', '?'])\n",
    "\n",
    "# Make predictions\n",
    "predicted_class = predict(np.expand_dims(new_data, axis=0), class_probabilities, conditional_probabilities, unique_features)\n",
    "print(\"Predicted class:\", predicted_class[0])\n"
   ]
  },
  {
   "cell_type": "code",
   "execution_count": 3,
   "metadata": {
    "metadata": {}
   },
   "outputs": [
    {
     "name": "stdout",
     "output_type": "stream",
     "text": [
      "Normalized Data:\n",
      "[[0.26726124 0.53452248 0.80178373]\n",
      " [0.45584231 0.56980288 0.68376346]\n",
      " [0.50257071 0.57436653 0.64616234]]\n"
     ]
    }
   ],
   "source": [
    "from sklearn.preprocessing import Normalizer\n",
    "import numpy as np\n",
    "\n",
    "# Sample data - replace this with your actual dataset\n",
    "data = np.array([\n",
    "    [1, 2, 3],\n",
    "    [4, 5, 6],\n",
    "    [7, 8, 9]\n",
    "])\n",
    "\n",
    "# Create a normalizer object\n",
    "normalizer = Normalizer()\n",
    "\n",
    "# Fit and transform the data\n",
    "normalized_data = normalizer.fit_transform(data)\n",
    "\n",
    "# Display the normalized data\n",
    "print(\"Normalized Data:\")\n",
    "print(normalized_data)\n"
   ]
  },
  {
   "cell_type": "code",
   "execution_count": null,
   "metadata": {},
   "outputs": [],
   "source": []
  }
 ],
 "metadata": {
  "kernelspec": {
   "display_name": "Python 3",
   "language": "python",
   "name": "python3"
  },
  "language_info": {
   "codemirror_mode": {
    "name": "ipython",
    "version": 3
   },
   "file_extension": ".py",
   "mimetype": "text/x-python",
   "name": "python",
   "nbconvert_exporter": "python",
   "pygments_lexer": "ipython3",
   "version": "3.12.0"
  }
 },
 "nbformat": 4,
 "nbformat_minor": 2
}
